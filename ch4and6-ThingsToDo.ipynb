{
 "cells": [
  {
   "cell_type": "markdown",
   "id": "236d68ef-2617-4175-8c41-6bd42a74cebd",
   "metadata": {},
   "source": [
    "SDEV 220 M2 Tutorial | Shadow Ralston | 06.14.2023"
   ]
  },
  {
   "cell_type": "markdown",
   "id": "3c12b935-739a-4513-84da-cfc3f8912e32",
   "metadata": {},
   "source": [
    "Instructions:\n",
    "\n",
    "In your text book, navigate to the end of Chapter 4 and Chapter 6 to the section titled \"Things to Do\"\n",
    "Complete the following sections in your Jupyter Notebook:\n",
    "4.1\n",
    "4.2\n",
    "6.1\n",
    "6.2\n",
    "6.3"
   ]
  },
  {
   "cell_type": "markdown",
   "id": "199095eb-3065-4334-9d71-54d9593adad2",
   "metadata": {},
   "source": [
    "**4.1** Choose a number between 1 and 10 and assign it to the variable secret. Then, select another number between 1 and 10 and assign it to the variable guess. Next, write the conditional tests (if, else, and elif) to print the string 'too low' if guess is less than secret, 'too high' if greater than secret, and 'just right' if equal to secret."
   ]
  },
  {
   "cell_type": "code",
   "execution_count": 6,
   "id": "646baa6f-dbbe-4473-9ad2-253ef21b2225",
   "metadata": {},
   "outputs": [
    {
     "name": "stdout",
     "output_type": "stream",
     "text": [
      "too high\n"
     ]
    }
   ],
   "source": [
    "#assign variable\n",
    "secret = 8\n",
    "guess = 10\n",
    "\n",
    "#selection statement\n",
    "if guess == secret:\n",
    "    print(\"just right\")\n",
    "elif guess < secret:\n",
    "    print(\"too low\")\n",
    "elif guess > secret:\n",
    "    print(\"too high\")\n",
    "else:\n",
    "    print(\"unexpected error\")"
   ]
  },
  {
   "cell_type": "markdown",
   "id": "57a00a0e-51d4-4335-bf23-35bd8db1b4a1",
   "metadata": {},
   "source": [
    "**4.2** Assign True or False to the variables small and green. Write some if/else statements to print which of these matches those choices: cherry, pea, watermelon, pumpkin."
   ]
  },
  {
   "cell_type": "markdown",
   "id": "e83f8713-de89-4b5b-8057-f67a4965e95f",
   "metadata": {},
   "source": [
    "*The instructions for 4.2 were a bit vague... so I hope my interpretation is acceptable. ~ Shadow*"
   ]
  },
  {
   "cell_type": "code",
   "execution_count": 19,
   "id": "8a3b606b-17df-4879-bcb4-b0b67ff840a0",
   "metadata": {},
   "outputs": [
    {
     "name": "stdout",
     "output_type": "stream",
     "text": [
      "A cherry is small, but not green.\n",
      "A pea is small and green.\n",
      "A watermelon is green, but not small.\n",
      "A pumpkin is not small or green.\n"
     ]
    }
   ],
   "source": [
    "#assign variables\n",
    "small = True\n",
    "green = True\n",
    "\n",
    "#items dictionary {food item : [adj size, adj color]}\n",
    "food = {\n",
    "    'cherry': [small, \"red\"],\n",
    "    'pea': [small, green],\n",
    "    'watermelon': [\"big\", green],\n",
    "    'pumpkin': [\"big\", \"orange\"]\n",
    "}\n",
    "\n",
    "#iterations and selection statements\n",
    "for item, desc in food.items():\n",
    "        if desc[0] == True: # is it small?\n",
    "            if desc[1] == True: # is it green?\n",
    "                print(f\"A {item} is small and green.\")\n",
    "            elif desc[1] != True: # is it not green?\n",
    "                print(f\"A {item} is small, but not green.\")\n",
    "            else:\n",
    "                print(\"unexpected error.\")\n",
    "        elif desc[0] != True: #is it not small?\n",
    "            if desc[1] == True: # is it green?\n",
    "                print(f\"A {item} is green, but not small.\")\n",
    "            elif desc[1] != True: # is it not green?\n",
    "                print(f\"A {item} is not small or green.\")\n",
    "            else:\n",
    "                print(\"unexpected error.\")\n",
    "        else:\n",
    "            print(\"unexpected error.\")"
   ]
  },
  {
   "cell_type": "markdown",
   "id": "555005e5-4651-47a6-85e6-9d3caadbb598",
   "metadata": {},
   "source": [
    "**6.1** Use a for loop to print the values of the list [3, 2, 1, 0]."
   ]
  },
  {
   "cell_type": "code",
   "execution_count": 20,
   "id": "d42cc82e-edb9-4a09-bd33-a9b13ff6a2ee",
   "metadata": {},
   "outputs": [
    {
     "name": "stdout",
     "output_type": "stream",
     "text": [
      "3\n",
      "2\n",
      "1\n",
      "0\n"
     ]
    }
   ],
   "source": [
    "# assign list\n",
    "list = [3, 2, 1, 0]\n",
    "\n",
    "#loop to print values\n",
    "for item in list:\n",
    "    print(item)"
   ]
  },
  {
   "cell_type": "markdown",
   "id": "214e64dc-49a6-4440-b237-3c7f044fc25f",
   "metadata": {},
   "source": [
    "**6.2** Assign the value 7 to the variable guess_me, and the value 1 to the variable number. Write a while loop that compares number with guess_me. Print 'too low' if number is less than guess me. If number equals guess_me, print 'found it!' and then exit the loop. If number is greater than guess_me, print 'oops' and then exit the loop. Increment number at the end of the loop."
   ]
  },
  {
   "cell_type": "code",
   "execution_count": 2,
   "id": "5db09eff-f4e7-4be6-9533-16e82d3c5826",
   "metadata": {},
   "outputs": [
    {
     "name": "stdout",
     "output_type": "stream",
     "text": [
      "too low\n",
      "too low\n",
      "too low\n",
      "too low\n",
      "too low\n",
      "too low\n",
      "found it!\n"
     ]
    }
   ],
   "source": [
    "#assign variables\n",
    "guess_me = 7\n",
    "number = 1\n",
    "\n",
    "while number <= guess_me:\n",
    "    if number < guess_me:\n",
    "        print(\"too low\")\n",
    "    elif number == guess_me:\n",
    "        print(\"found it!\")\n",
    "    else:\n",
    "        print(\"oops\")\n",
    "        break\n",
    "    number += 1"
   ]
  },
  {
   "cell_type": "markdown",
   "id": "19c2b536-6609-41c8-9f1e-46a475010a0a",
   "metadata": {},
   "source": [
    "**6.3** Assign the value 5 to the variable guess_me. Use a for loop to iterate a variable called number over range(10). If number is less than guess_me, print 'too low'. If it equals guess_me, print found it! and then break out of the for loop. If number is greater than guess_me, print 'oops' and then exit the loop."
   ]
  },
  {
   "cell_type": "code",
   "execution_count": 5,
   "id": "aa94ace4-bce8-4ff3-b6a9-83caf1ab94b0",
   "metadata": {},
   "outputs": [
    {
     "name": "stdout",
     "output_type": "stream",
     "text": [
      "too low\n",
      "too low\n",
      "too low\n",
      "too low\n",
      "too low\n",
      "found it!\n"
     ]
    }
   ],
   "source": [
    "# assign variables\n",
    "guess_me = 5\n",
    "\n",
    "for number in range(0, 10):\n",
    "    if number < guess_me:\n",
    "        print(\"too low\")\n",
    "    elif number == guess_me:\n",
    "        print(\"found it!\")\n",
    "        break\n",
    "    else:\n",
    "        print(\"oops\")\n",
    "        break"
   ]
  }
 ],
 "metadata": {
  "kernelspec": {
   "display_name": "Python 3 (ipykernel)",
   "language": "python",
   "name": "python3"
  },
  "language_info": {
   "codemirror_mode": {
    "name": "ipython",
    "version": 3
   },
   "file_extension": ".py",
   "mimetype": "text/x-python",
   "name": "python",
   "nbconvert_exporter": "python",
   "pygments_lexer": "ipython3",
   "version": "3.10.9"
  }
 },
 "nbformat": 4,
 "nbformat_minor": 5
}
